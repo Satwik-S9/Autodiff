{
 "cells": [
  {
   "cell_type": "code",
   "execution_count": 1,
   "metadata": {},
   "outputs": [],
   "source": [
    "from base import ComputationalGraphs as cg"
   ]
  },
  {
   "cell_type": "code",
   "execution_count": 2,
   "metadata": {},
   "outputs": [],
   "source": [
    "a = cg.Edge(value=5, name='a')\n",
    "b = cg.Edge(value=3, name='b')\n",
    "c = cg.Edge(value=2, name='c')\n",
    "const = cg.Edge(3, 'const')"
   ]
  },
  {
   "cell_type": "code",
   "execution_count": 3,
   "metadata": {},
   "outputs": [],
   "source": [
    "u = b*c\n",
    "u.name = 'u'\n",
    "u.history['*'] = (b, c)\n",
    "v = a + u\n",
    "v.name = 'v'\n",
    "v.history['+'] = (a, u)\n",
    "J = const*v\n",
    "J.history['*'] = (const, v)\n",
    "J.name = 'J'"
   ]
  },
  {
   "cell_type": "code",
   "execution_count": 4,
   "metadata": {},
   "outputs": [],
   "source": [
    "vars = [u, v, J]"
   ]
  },
  {
   "cell_type": "code",
   "execution_count": 5,
   "metadata": {},
   "outputs": [
    {
     "data": {
      "text/plain": [
       "(u = 6, v = 11, J = 33)"
      ]
     },
     "execution_count": 5,
     "metadata": {},
     "output_type": "execute_result"
    }
   ],
   "source": [
    "u, v, J"
   ]
  },
  {
   "cell_type": "code",
   "execution_count": 6,
   "metadata": {},
   "outputs": [],
   "source": [
    "gradients = cg.get_gradients(J)"
   ]
  },
  {
   "cell_type": "code",
   "execution_count": 7,
   "metadata": {},
   "outputs": [
    {
     "data": {
      "text/plain": [
       "defaultdict(<function base.ComputationalGraphs.get_gradients.<locals>.<lambda>()>,\n",
       "            {const = 3: 11, v = 11: 3, a = 5: 3, u = 6: 3, b = 3: 6, c = 2: 9})"
      ]
     },
     "execution_count": 7,
     "metadata": {},
     "output_type": "execute_result"
    }
   ],
   "source": [
    "gradients"
   ]
  },
  {
   "cell_type": "code",
   "execution_count": 8,
   "metadata": {},
   "outputs": [
    {
     "data": {
      "text/plain": [
       "({'+': (a = 5.0, (b*c) = 6.0)},\n",
       " {'*': (b = 3.0, c = 2.0)},\n",
       " {},\n",
       " {'*': (b = 3, c = 2)},\n",
       " {'+': (a = 5, u = 6)})"
      ]
     },
     "execution_count": 8,
     "metadata": {},
     "output_type": "execute_result"
    }
   ],
   "source": [
    "a.history, b.history, c.history, u.history, v.history"
   ]
  },
  {
   "cell_type": "code",
   "execution_count": 9,
   "metadata": {},
   "outputs": [
    {
     "data": {
      "text/plain": [
       "(a = 5.0, (const*v) = 33.0)"
      ]
     },
     "execution_count": 9,
     "metadata": {},
     "output_type": "execute_result"
    }
   ],
   "source": [
    "a.src, J.src"
   ]
  },
  {
   "cell_type": "code",
   "execution_count": 10,
   "metadata": {},
   "outputs": [],
   "source": [
    "import networkx as nx"
   ]
  },
  {
   "cell_type": "code",
   "execution_count": 11,
   "metadata": {},
   "outputs": [
    {
     "data": {
      "text/plain": [
       "({'+': (a = 5.0, (b*c) = 6.0)}, {'*': (b = 3.0, c = 2.0)})"
      ]
     },
     "execution_count": 11,
     "metadata": {},
     "output_type": "execute_result"
    }
   ],
   "source": [
    "a.history, b.history"
   ]
  },
  {
   "cell_type": "code",
   "execution_count": 12,
   "metadata": {},
   "outputs": [],
   "source": [
    "g =  nx.Graph()\n",
    "for var in vars:\n",
    "    cont = list(var.history.values())\n",
    "    for i, (v1, v2) in enumerate(cont):\n",
    "        g.add_edge(v1, v2)\n",
    "                "
   ]
  },
  {
   "cell_type": "code",
   "execution_count": 13,
   "metadata": {},
   "outputs": [
    {
     "name": "stdout",
     "output_type": "stream",
     "text": [
      "[(b = 3, c = 2), (a = 5, u = 6), (const = 3, v = 11)]\n"
     ]
    }
   ],
   "source": [
    "print(g.edges)"
   ]
  },
  {
   "cell_type": "code",
   "execution_count": 14,
   "metadata": {},
   "outputs": [],
   "source": [
    "import matplotlib.pyplot as plt"
   ]
  },
  {
   "cell_type": "code",
   "execution_count": 15,
   "metadata": {},
   "outputs": [],
   "source": [
    "g.add_edge(b, u)\n",
    "g.add_edge(c, u)\n",
    "g.add_edge(a, v)\n",
    "g.add_edge(const, v)"
   ]
  },
  {
   "cell_type": "code",
   "execution_count": 16,
   "metadata": {},
   "outputs": [
    {
     "data": {
      "image/png": "[encoded data removed]",
      "text/plain": [
       "<Figure size 432x288 with 1 Axes>"
      ]
     },
     "metadata": {},
     "output_type": "display_data"
    }
   ],
   "source": [
    "nx.draw(g, with_labels=True)\n",
    "plt.savefig(\"test.png\")"
   ]
  },
  {
   "cell_type": "code",
   "execution_count": 17,
   "metadata": {},
   "outputs": [],
   "source": [
    "operations_dict = {(0, 'u'): (b, c, cg.mul), (1, 'v'): (a, u, cg.add), (2, 'J'): (const, v, cg.mul)}"
   ]
  },
  {
   "cell_type": "code",
   "execution_count": 18,
   "metadata": {},
   "outputs": [],
   "source": [
    "temp = cg.add(a, u)\n",
    "temp.name = 'v'"
   ]
  },
  {
   "cell_type": "code",
   "execution_count": 19,
   "metadata": {},
   "outputs": [
    {
     "data": {
      "text/plain": [
       "base.ComputationalGraphs.Edge"
      ]
     },
     "execution_count": 19,
     "metadata": {},
     "output_type": "execute_result"
    }
   ],
   "source": [
    "type(v)"
   ]
  },
  {
   "cell_type": "code",
   "execution_count": 20,
   "metadata": {},
   "outputs": [],
   "source": [
    "class Plotter:\n",
    "    def __init__(self, base_vars=None):\n",
    "        self.base_vars = base_vars\n",
    "        self.expns = []\n",
    "        \n",
    "    def perform_ops(self, operations_dict: dict):\n",
    "        for var, (a, b, fun) in operations_dict.items():\n",
    "            print(a, b, fun)\n",
    "            temp = fun(a, b)\n",
    "            temp.name = var\n",
    "            self.expns.append(temp)\n",
    "        \n",
    "        print(self.expns)"
   ]
  },
  {
   "cell_type": "code",
   "execution_count": 21,
   "metadata": {},
   "outputs": [],
   "source": [
    "p = Plotter()"
   ]
  },
  {
   "cell_type": "code",
   "execution_count": 22,
   "metadata": {},
   "outputs": [
    {
     "name": "stdout",
     "output_type": "stream",
     "text": [
      "b = 3 c = 2 <function mul at 0x7fa6abb66e50>\n",
      "a = 5 u = 6 <function add at 0x7fa6ab8e4670>\n",
      "const = 3 v = 11 <function mul at 0x7fa6abb66e50>\n",
      "[(0, 'u') = 6, (1, 'v') = 11, (2, 'J') = 33]\n"
     ]
    }
   ],
   "source": [
    "p.perform_ops(operations_dict)"
   ]
  },
  {
   "cell_type": "code",
   "execution_count": 23,
   "metadata": {},
   "outputs": [
    {
     "data": {
      "text/plain": [
       "[(0, 'u') = 6, (1, 'v') = 11, (2, 'J') = 33]"
      ]
     },
     "execution_count": 23,
     "metadata": {},
     "output_type": "execute_result"
    }
   ],
   "source": [
    "p.expns"
   ]
  },
  {
   "cell_type": "code",
   "execution_count": 24,
   "metadata": {},
   "outputs": [],
   "source": [
    "import pydantic\n",
    "import numpy as np\n",
    "import networkx as nx\n",
    "import matplotlib as mpl\n",
    "from collections import defaultdict\n",
    "from base import ComputationalGraphs as cg"
   ]
  },
  {
   "cell_type": "code",
   "execution_count": 25,
   "metadata": {},
   "outputs": [],
   "source": [
    "a = cg.Edge(value=5, name='a')\n",
    "b = cg.Edge(value=3, name='b')\n",
    "c = cg.Edge(value=2, name='c')\n",
    "const = cg.Edge(3, 'const')\n",
    "\n",
    "d = b*c\n",
    "d.name = 'd'\n",
    "d.history['*'] = (b, c)\n",
    "e = a + d\n",
    "e.name = 'e'\n",
    "e.history['+'] = (a, d)\n",
    "f = e*const\n",
    "f.history['*'] = (const, e)\n",
    "f.name = 'f'"
   ]
  },
  {
   "cell_type": "code",
   "execution_count": 26,
   "metadata": {},
   "outputs": [],
   "source": [
    "class Node(pydantic.BaseModel):\n",
    "    \"\"\"A dataclass representing a base variable\"\"\"\n",
    "    value: float\n",
    "    name: str\n",
    "    \n",
    "    def __repr__(self) -> str:\n",
    "        return \"{} = {}\".format(self.name, self.value)\n",
    "    \n",
    "    def __str__(self) -> str:\n",
    "        return repr(self)"
   ]
  },
  {
   "cell_type": "code",
   "execution_count": 27,
   "metadata": {},
   "outputs": [],
   "source": [
    "a = cg.Edge(value=5, name='a')\n",
    "b = cg.Edge(value=3, name='b')\n",
    "c = cg.Edge(value=2, name='c')\n",
    "const = cg.Edge(3, 'const')\n",
    "\n",
    "operations_dict = {(0, 'd'): (b, c, cg.mul), (1, 'e'): (a, d, cg.add), (2, 'f'): (e, const, cg.mul)}"
   ]
  },
  {
   "cell_type": "code",
   "execution_count": 59,
   "metadata": {},
   "outputs": [],
   "source": [
    "class Plotter:\n",
    "    def __init__(self, base_vars:list):\n",
    "        self.base_vars = base_vars\n",
    "        self.vars = {}\n",
    "        for v in self.base_vars:\n",
    "            self.vars[v.name] = v\n",
    "        self.expns = []\n",
    "        self.graph = nx.DiGraph()\n",
    "        \n",
    "    def perform_ops(self, operations_dict: dict):\n",
    "        self.operations_dict = operations_dict\n",
    "        \n",
    "        for var, (a, b, fun) in operations_dict.items():\n",
    "            print(a, b, fun)\n",
    "            if a not in self.vars:\n",
    "                self.vars[a.name] = a\n",
    "            if b not in self.vars:\n",
    "                self.vars[b.name] = b\n",
    "                \n",
    "            temp = fun(a, b, name=var[1])\n",
    "            self.expns.append(temp)\n",
    "        \n",
    "        self.vars[self.expns[-1].name] = self.expns[-1]\n",
    "        print(self.vars)\n",
    "        \n",
    "    def create_network(self):\n",
    "        for i, v in self.operations_dict.items():\n",
    "            x, y, _ = v\n",
    "            u1idx = x.name\n",
    "            u2idx = y.name\n",
    "            adder = len(self.base_vars)\n",
    "            self.graph.add_edge(u1idx, i[1])\n",
    "            self.graph.add_edge(u2idx, i[1])\n",
    "            \n",
    "    def plot(self):\n",
    "        M = self.graph.number_of_edges()\n",
    "        node_sizes = [3 + 10 * i for i in range(len(self.graph))]\n",
    "        seed=42\n",
    "        pos = nx.spring_layout(self.graph, seed=seed)\n",
    "        edge_colors = range(2, M + 2)\n",
    "        edge_alphas = [(5 + i) / (M + 4) for i in range(M)]\n",
    "        cmap = plt.cm.plasma\n",
    "\n",
    "        plt.figure(figsize=(12, 12))\n",
    "        nodes = nx.draw_networkx_nodes(self.graph, pos, node_size=1000, node_color=\"indigo\")\n",
    "        edges = nx.draw_networkx_edges(\n",
    "            self.graph,\n",
    "            pos,\n",
    "            node_size=node_sizes,\n",
    "            arrowstyle=\"->\",\n",
    "            arrowsize=10,\n",
    "            edge_color=edge_colors,\n",
    "            edge_cmap=cmap,\n",
    "            width=2,\n",
    "        )\n",
    "\n",
    "        for i in range(M):\n",
    "            edges[i].set_alpha(edge_alphas[i])\n",
    "            \n",
    "        pc = mpl.collections.PatchCollection(edges, cmap=cmap)\n",
    "        pc.set_array(edge_colors)\n",
    "        plt.colorbar(pc)\n",
    "\n",
    "        labels = {}\n",
    "        for name, var in self.vars.items():\n",
    "            if 'const' in name:\n",
    "                labels[name] = f\"{var.value}\"        \n",
    "            labels[name] = fr\"${name}$\"\n",
    "            \n",
    "        nx.draw_networkx_labels(self.graph, pos, labels, font_size=22, font_color=\"whitesmoke\")\n",
    "\n",
    "        ax = plt.gca()\n",
    "        ax.set_axis_off()\n",
    "        plt.show()\n",
    "                "
   ]
  },
  {
   "cell_type": "code",
   "execution_count": 48,
   "metadata": {},
   "outputs": [
    {
     "name": "stdout",
     "output_type": "stream",
     "text": [
      "True\n"
     ]
    }
   ],
   "source": []
  },
  {
   "cell_type": "code",
   "execution_count": 60,
   "metadata": {},
   "outputs": [
    {
     "name": "stdout",
     "output_type": "stream",
     "text": [
      "b = 3 c = 2 <function mul at 0x7fa6abb66e50>\n",
      "a = 5 d = 6 <function add at 0x7fa6ab8e4670>\n",
      "e = 11 const = 3 <function mul at 0x7fa6abb66e50>\n",
      "{'a': a = 5, 'b': b = 3, 'c': c = 2, 'd': d = 6, 'e': e = 11, 'const': const = 3, 'f': f = 33}\n"
     ]
    }
   ],
   "source": [
    "p = Plotter([a, b, c])\n",
    "\n",
    "p.perform_ops(operations_dict)"
   ]
  },
  {
   "cell_type": "code",
   "execution_count": null,
   "metadata": {},
   "outputs": [],
   "source": []
  },
  {
   "cell_type": "code",
   "execution_count": 61,
   "metadata": {},
   "outputs": [],
   "source": [
    "p.create_network()"
   ]
  },
  {
   "cell_type": "code",
   "execution_count": 62,
   "metadata": {},
   "outputs": [
    {
     "name": "stderr",
     "output_type": "stream",
     "text": [
      "/tmp/ipykernel_23805/3750278.py:62: MatplotlibDeprecationWarning: Starting from Matplotlib 3.6, colorbar() will steal space from the mappable's axes, rather than from the current axes, to place the colorbar.  To silence this warning, explicitly pass the 'ax' argument to colorbar().\n",
      "  plt.colorbar(pc)\n"
     ]
    },
    {
     "data": {
      "image/png": "[encoded data removed]",
      "text/plain": [
       "<Figure size 864x864 with 2 Axes>"
      ]
     },
     "metadata": {
      "needs_background": "light"
     },
     "output_type": "display_data"
    }
   ],
   "source": [
    "p.plot()"
   ]
  },
  {
   "cell_type": "code",
   "execution_count": 35,
   "metadata": {},
   "outputs": [
    {
     "data": {
      "text/plain": [
       "OutEdgeView([('b', 'd'), ('d', 'e'), ('c', 'd'), ('a', 'e'), ('e', 'f'), ('const', 'f')])"
      ]
     },
     "execution_count": 35,
     "metadata": {},
     "output_type": "execute_result"
    }
   ],
   "source": [
    "p.graph.edges"
   ]
  },
  {
   "cell_type": "code",
   "execution_count": null,
   "metadata": {},
   "outputs": [],
   "source": [
    "G = nx.DiGraph()\n",
    "G.add_edge(1, 5)\n",
    "G.add_edge(2, 4)\n",
    "G.add_edge(3, 4)\n",
    "G.add_edge(4, 5)\n",
    "G.add_edge(5, 6)\n"
   ]
  },
  {
   "cell_type": "code",
   "execution_count": 41,
   "metadata": {},
   "outputs": [
    {
     "name": "stderr",
     "output_type": "stream",
     "text": [
      "/tmp/ipykernel_23805/2472077120.py:27: MatplotlibDeprecationWarning: Starting from Matplotlib 3.6, colorbar() will steal space from the mappable's axes, rather than from the current axes, to place the colorbar.  To silence this warning, explicitly pass the 'ax' argument to colorbar().\n",
      "  plt.colorbar(pc)\n"
     ]
    },
    {
     "data": {
      "image/png": "[encoded data removed]",
      "text/plain": [
       "<Figure size 864x864 with 2 Axes>"
      ]
     },
     "metadata": {
      "needs_background": "light"
     },
     "output_type": "display_data"
    }
   ],
   "source": [
    "M = p.graph.number_of_edges()\n",
    "node_sizes = [3 + 10 * i for i in range(len(p.graph))]\n",
    "seed=42\n",
    "pos = nx.spring_layout(p.graph, seed=seed)\n",
    "edge_colors = range(2, M + 2)\n",
    "edge_alphas = [(5 + i) / (M + 4) for i in range(M)]\n",
    "cmap = plt.cm.plasma\n",
    "\n",
    "plt.figure(figsize=(12, 12))\n",
    "nodes = nx.draw_networkx_nodes(p.graph, pos, node_size=1000, node_color=\"indigo\")\n",
    "edges = nx.draw_networkx_edges(\n",
    "    p.graph,\n",
    "    pos,\n",
    "    node_size=node_sizes,\n",
    "    arrowstyle=\"->\",\n",
    "    arrowsize=10,\n",
    "    edge_color=edge_colors,\n",
    "    edge_cmap=cmap,\n",
    "    width=2,\n",
    ")\n",
    "\n",
    "for i in range(M):\n",
    "    edges[i].set_alpha(edge_alphas[i])\n",
    "    \n",
    "pc = mpl.collections.PatchCollection(edges, cmap=cmap)\n",
    "pc.set_array(edge_colors)\n",
    "plt.colorbar(pc)\n",
    "\n",
    "labels = {}\n",
    "labels['a'] = r\"$a$\"\n",
    "labels['b'] = r\"$b$\"\n",
    "labels['c'] = r\"$c$\"\n",
    "labels['d'] = r\"$d$\"\n",
    "labels['e'] = r\"$e$\"\n",
    "labels['f'] = r\"$f$\"\n",
    "labels['const'] = r\"$3$\"\n",
    "nx.draw_networkx_labels(p.graph, pos, labels, font_size=22, font_color=\"whitesmoke\")\n",
    "\n",
    "ax = plt.gca()\n",
    "ax.set_axis_off()\n",
    "plt.show()"
   ]
  },
  {
   "cell_type": "code",
   "execution_count": null,
   "metadata": {},
   "outputs": [
    {
     "name": "stderr",
     "output_type": "stream",
     "text": [
      "/tmp/ipykernel_15753/452667133.py:27: MatplotlibDeprecationWarning: Starting from Matplotlib 3.6, colorbar() will steal space from the mappable's axes, rather than from the current axes, to place the colorbar.  To silence this warning, explicitly pass the 'ax' argument to colorbar().\n",
      "  plt.colorbar(pc)\n"
     ]
    },
    {
     "data": {
      "image/png": "[encoded data removed]",
      "text/plain": [
       "<Figure size 864x864 with 2 Axes>"
      ]
     },
     "metadata": {
      "needs_background": "light"
     },
     "output_type": "display_data"
    }
   ],
   "source": [
    "M = G.number_of_edges()\n",
    "node_sizes = [3 + 1000 * i for i in range(len(G))]\n",
    "seed=42\n",
    "pos = nx.spring_layout(G, seed=seed)\n",
    "edge_colors = range(2, M + 2)\n",
    "edge_alphas = [(5 + i) / (M + 4) for i in range(M)]\n",
    "cmap = plt.cm.plasma\n",
    "\n",
    "plt.figure(figsize=(12, 12))\n",
    "nodes = nx.draw_networkx_nodes(G, pos, node_size=1000, node_color=\"indigo\")\n",
    "edges = nx.draw_networkx_edges(\n",
    "    G,\n",
    "    pos,\n",
    "    node_size=node_sizes,\n",
    "    arrowstyle=\"->\",\n",
    "    arrowsize=10,\n",
    "    edge_color=edge_colors,\n",
    "    edge_cmap=cmap,\n",
    "    width=2,\n",
    ")\n",
    "\n",
    "for i in range(M):\n",
    "    edges[i].set_alpha(edge_alphas[i])\n",
    "    \n",
    "pc = mpl.collections.PatchCollection(edges, cmap=cmap)\n",
    "pc.set_array(edge_colors)\n",
    "plt.colorbar(pc)\n",
    "\n",
    "labels = {}\n",
    "labels[1] = r\"$a$\"\n",
    "labels[2] = r\"$b$\"\n",
    "labels[3] = r\"$c$\"\n",
    "labels[4] = r\"$d$\"\n",
    "labels[5] = r\"$e$\"\n",
    "labels[6] = r\"$f$\"\n",
    "nx.draw_networkx_labels(G, pos, labels, font_size=22, font_color=\"whitesmoke\")\n",
    "\n",
    "ax = plt.gca()\n",
    "ax.set_axis_off()\n",
    "plt.show()"
   ]
  }
 ],
 "metadata": {
  "interpreter": {
   "hash": "2e099ab778632fa2f575ad6d334952b869723795be2352ce09efff2efe36e081"
  },
  "kernelspec": {
   "display_name": "Python 3.9.5 ('base')",
   "language": "python",
   "name": "python3"
  },
  "language_info": {
   "codemirror_mode": {
    "name": "ipython",
    "version": 3
   },
   "file_extension": ".py",
   "mimetype": "text/x-python",
   "name": "python",
   "nbconvert_exporter": "python",
   "pygments_lexer": "ipython3",
   "version": "3.9.5"
  },
  "orig_nbformat": 4
 },
 "nbformat": 4,
 "nbformat_minor": 2
}
